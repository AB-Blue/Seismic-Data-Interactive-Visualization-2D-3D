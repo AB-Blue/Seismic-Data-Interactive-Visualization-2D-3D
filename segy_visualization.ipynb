{
 "cells": [
  {
   "cell_type": "markdown",
   "id": "88003e32-22a7-48e9-bb22-240ac033cd63",
   "metadata": {},
   "source": [
    "# Seismic Data Interactive Visualization \n",
    "## 2D/3D post-stack seismic amplitude/reservoir property in sgy/segy format \n",
    "### Author: Amir Abbas Babasafari (AB) \n",
    "### Date: March 2024\n",
    "### Email: a.babasafari@yahoo.com\n",
    "### IDE: Jupyter Notebook\n",
    "### Python version: 3.9"
   ]
  },
  {
   "cell_type": "markdown",
   "id": "2fe73b13-c24d-475b-8978-e027faf18910",
   "metadata": {},
   "source": [
    "### *Please make sure that data loaded is 2D or 3D post-stack seismic data, pre-stack is not supported\n",
    "### *Supported Data Format: 4-byte IBM float and 4-byte IEEE float"
   ]
  },
  {
   "cell_type": "markdown",
   "id": "309c74c9-93c6-4702-addd-4a6d543f6e86",
   "metadata": {},
   "source": [
    "#####"
   ]
  },
  {
   "cell_type": "markdown",
   "id": "0c683c3f-4e11-48c2-a49b-a4dcf6a802b9",
   "metadata": {},
   "source": [
    "### Import Libraries\n",
    "#### Please run the cell below"
   ]
  },
  {
   "cell_type": "code",
   "execution_count": 1,
   "id": "85b8a474-111b-4a6a-b63d-2446c903b17f",
   "metadata": {},
   "outputs": [],
   "source": [
    "import os\n",
    "import sys\n",
    "import numpy as np\n",
    "import segyio \n",
    "from matplotlib import pyplot as plt\n",
    "from tkinter import *\n",
    "from tkinter import filedialog\n",
    "import ipywidgets as widgets\n",
    "from ipywidgets import interact"
   ]
  },
  {
   "cell_type": "markdown",
   "id": "6ee062a5-5dd6-4630-ab16-76aedb338cb1",
   "metadata": {},
   "source": [
    "### Load a sgy/segy file"
   ]
  },
  {
   "cell_type": "markdown",
   "id": "189ad28e-6203-4ca5-80de-7be3b584430a",
   "metadata": {},
   "source": [
    "#### Please run the cell below, click on 'open a file' button on pop-up window to select your seismic data in segy/sgy format, followed by clicking on the 'close the window' button."
   ]
  },
  {
   "cell_type": "code",
   "execution_count": 2,
   "id": "d7f38c47-f296-4e47-8426-c550b06da65a",
   "metadata": {},
   "outputs": [
    {
     "name": "stdout",
     "output_type": "stream",
     "text": [
      "File_path: E:/AB_2023/BRI/segy_test/DGB/F3_Demo_Netherlands.segy\n"
     ]
    }
   ],
   "source": [
    "def load_segy_file():\n",
    "    '''\n",
    "    Function to load a segy file\n",
    "    \n",
    "    Return file path of loaded segy file\n",
    "    '''\n",
    "    \n",
    "    global filepath\n",
    "    \n",
    "    # Open file name\n",
    "    file = filedialog.askopenfilename(initialdir = os.getcwd(),\n",
    "    title = \"Please select 2D/3D post-stack seismic data in segy format\",\n",
    "    filetypes = [('sgy files','*.sgy'),('segy files','*.segy'),('All files','*.*')])\n",
    "    filepath = file\n",
    "    print(\"File_path: {0}\".format(filepath))\n",
    "    \n",
    "# Create root window\n",
    "root = Tk()\n",
    "root.geometry('300x200')  \n",
    "root.title('AB')\n",
    "\n",
    "# Open button to click in a GUI toolkit\n",
    "open_button1 = Button(root, text = \"Open a File\", command = load_segy_file)\n",
    "open_button2 = Button(root, text = \"Close the Window\", command = root.destroy)\n",
    "open_button1.pack()\n",
    "open_button2.pack()\n",
    "\n",
    "# Run the application\n",
    "root.mainloop()"
   ]
  },
  {
   "cell_type": "markdown",
   "id": "4f4e2dbf-cdd7-4f49-a84a-87c845f01c38",
   "metadata": {},
   "source": [
    "### Read 2D/3D post-stack seismic data and identify parameters\n",
    "#### Please run the cell below"
   ]
  },
  {
   "cell_type": "code",
   "execution_count": 3,
   "id": "9c9e41dd-4ad3-499f-8958-fd3003575d62",
   "metadata": {},
   "outputs": [
    {
     "name": "stdout",
     "output_type": "stream",
     "text": [
      "Data Type: Post-stack 3D\n",
      "Seismic Data Shape (Time sample, crossline number, inline number) : (462, 951, 651)\n"
     ]
    }
   ],
   "source": [
    "def identify_seismic_data_parameters(filepath_in):    \n",
    "    \"\"\"     \n",
    "    Function to identify data type as 2D or 3D and Post-Stack or Pre-Stack as well as seismic amplitude traces and geometry-related parameters\n",
    "    \n",
    "    Parameter:\n",
    "    ----------\n",
    "    filepath_in (str): file path of loaded segy file\n",
    "    \n",
    "    Returns:\n",
    "    --------\n",
    "    data_display (numpy.ndarray): Seismic amplitude traces to plot\n",
    "    data_type, seismic_data_shape, cdp_no, sample_rate, twt , inline_number, xline_number, diff_inline, diff_xline    \n",
    "\n",
    "    Author: Amir Abbas Babasafari (AB)\n",
    "    \"\"\"\n",
    "\n",
    "    with segyio.open(filepath_in, ignore_geometry=True) as f:\n",
    "        data_format = f.format\n",
    "\n",
    "    # Supported inline and crossline byte locations\n",
    "    inline_xline = [[189,193], [9,13], [9,21], [5,21]]\n",
    "    state = False\n",
    "    \n",
    "    # Read segy data with the specified byte location of geometry \n",
    "    for k, byte_loc in enumerate(inline_xline):\n",
    "\n",
    "        try:\n",
    "            with segyio.open(filepath_in, iline = byte_loc[0], xline = byte_loc[1], ignore_geometry=False) as f:\n",
    "                # Get the attributes\n",
    "                seismic_data = segyio.tools.cube(f)\n",
    "                n_traces = f.tracecount    \n",
    "                # data = f.trace.raw[:].T \n",
    "                # tr = f.bin[segyio.BinField.Traces]\n",
    "                tr = f.attributes(segyio.TraceField.TraceNumber)[-1]\n",
    "                if not isinstance(tr, int):\n",
    "                    tr = f.attributes(segyio.TraceField.TraceNumber)[-2] + 1\n",
    "                tr = int(tr[0])\n",
    "                spec = segyio.spec()\n",
    "                spec.sorting = f.sorting\n",
    "                data_sorting = spec.sorting == segyio.TraceSortingFormat.INLINE_SORTING\n",
    "                twt = f.samples\n",
    "                sample_rate = segyio.tools.dt(f) / 1000\n",
    "                n_samples = f.samples.size\n",
    "                \n",
    "                # TRACE_SEQUENCE_FILE _ byte location:5\n",
    "                TraceSequenceFile = []\n",
    "                # FieldRecord _ byte location:9\n",
    "                Field_Record = []\n",
    "                # Trace_Field _ byte location:13\n",
    "                Trace_Field = []\n",
    "                # CDP _ byte location:21\n",
    "                CDP = []\n",
    "                # INLINE_3D _ byte location:189\n",
    "                Inline_3D = []\n",
    "                # CROSSLINE_3D _ byte location:193\n",
    "                Crossline_3D = []\n",
    "\n",
    "                for i in range(n_traces):\n",
    "                    trace_no = f.attributes(segyio.TraceField.TRACE_SEQUENCE_FILE)[i]; TraceSequenceFile.append(trace_no)\n",
    "                    field_record = f.attributes(segyio.TraceField.FieldRecord)[i]; Field_Record.append(field_record)\n",
    "                    trace_field = f.attributes(segyio.TraceField.TraceNumber)[i]; Trace_Field.append(trace_field)\n",
    "                    cdp = f.attributes(segyio.TraceField.CDP)[i]; CDP.append(cdp)\n",
    "                    inline = f.attributes(segyio.TraceField.INLINE_3D)[i]; Inline_3D.append(inline)\n",
    "                    xline = f.attributes(segyio.TraceField.CROSSLINE_3D)[i]; Crossline_3D.append(xline)\n",
    "\n",
    "            inline3d = np.unique(Inline_3D)\n",
    "            crossline3d = np.unique(Crossline_3D)\n",
    "            fieldrecord = np.unique(Field_Record)\n",
    "            tracefield = np.unique(Trace_Field)\n",
    "            tracesequence = np.unique(TraceSequenceFile)\n",
    "            cdpnumber = np.unique(CDP)\n",
    "\n",
    "            state = True\n",
    "\n",
    "        except:\n",
    "            pass\n",
    "\n",
    "        if state:\n",
    "            \n",
    "            # Identify data as 2D/3D and Post-stack/Pre-stack\n",
    "            if len(seismic_data.shape) == 3:\n",
    "                if seismic_data.shape[0] != 1:\n",
    "                    data_type = 'Post-stack 3D'\n",
    "                else:\n",
    "                    if n_traces > tr > 1:   \n",
    "                        data_type = 'Post-stack 3D'\n",
    "                    else:\n",
    "                        data_type = 'Post-stack 2D'\n",
    "                    \n",
    "            else:        \n",
    "                if len(f.offsets) > 1:\n",
    "                    if seismic_data.shape[0] == 1:\n",
    "                        data_type = 'Pre-Stack 2D'\n",
    "                    else:\n",
    "                        data_type = 'Pre-Stack 3D'    \n",
    "                else:\n",
    "                    print('Error, Please check inline and crossline byte locations')\n",
    "\n",
    "            # create geometry-related parameters\n",
    "            if k==0:\n",
    "                inline_number = inline3d \n",
    "                xline_number = crossline3d\n",
    "            elif k==1:\n",
    "                inline_number = fieldrecord \n",
    "                xline_number = tracefield\n",
    "            elif k==2:\n",
    "                inline_number = fieldrecord \n",
    "                xline_number = cdpnumber\n",
    "            elif k==3:\n",
    "                inline_number = tracesequence \n",
    "                xline_number = cdpnumber\n",
    "\n",
    "            if data_type == 'Post-stack 3D':\n",
    "                if len(inline_number) == 1 or len(xline_number) == 1:\n",
    "                    pass\n",
    "                else:\n",
    "                    break\n",
    "            else:\n",
    "                break\n",
    "\n",
    "    \n",
    "    # reshape seismic data to the corresponding format based on data type\n",
    "    try:\n",
    "        inline, cdp, samples = seismic_data.shape\n",
    "    except:\n",
    "        print(\"Error, data was not loaded successfully, this could happen due to unsupported data format: {0}.\".format(data_format)) \n",
    "        print(\"In addition, please check inline and crossline byte locations, that might not be supported in this script.\")  \n",
    "        print(\"Data format 4-byte IBM float and 4-byte IEEE float are supported.\")\n",
    "\n",
    "              \n",
    "    if data_type == 'Post-stack 2D':\n",
    "        data_display = seismic_data.reshape(cdp, samples).T\n",
    "        cdp_no = np.arange(n_traces) \n",
    "\n",
    "        diff_inline = 1\n",
    "        diff_xline = 1\n",
    "\n",
    "        print('Data Type: {0}'.format(data_type))\n",
    "        print('Seismic Data Shape (Time sample, CDP number) : {0}'.format(data_display.shape))\n",
    "\n",
    "    elif data_type == 'Post-stack 3D':\n",
    "        if inline == 1 and tr > 1 and n_traces % tr == 0:  \n",
    "            inline_no =  n_traces / tr\n",
    "            data_display = seismic_data.reshape(int(inline_no), int(tr), int(samples)).T\n",
    "            xline_number = np.arange(tr)\n",
    "            inline_number = np.arange(inline_no)\n",
    "            cdp_no = xline_number\n",
    "\n",
    "        else:  \n",
    "            data_display = seismic_data.reshape(inline, cdp, samples).T\n",
    "            cdp_no = np.arange(cdp)\n",
    "            \n",
    "        diff_inline = np.diff(inline_number)[0]\n",
    "        diff_xline = np.diff(xline_number)[0]\n",
    "\n",
    "        print('Data Type: {0}'.format(data_type))\n",
    "        print('Seismic Data Shape (Time sample, crossline number, inline number) : {0}'.format(data_display.shape))\n",
    "\n",
    "    return data_display, data_type, data_display.shape, cdp_no, sample_rate, twt, inline_number, xline_number, diff_inline, diff_xline\n",
    "\n",
    "data_display, data_type, seismic_data_shape, cdp_no, sample_rate, twt , inline_number, xline_number, diff_inline, diff_xline= identify_seismic_data_parameters(filepath)"
   ]
  },
  {
   "cell_type": "markdown",
   "id": "813113af-0a50-42a2-9265-7cd62b635eef",
   "metadata": {},
   "source": [
    "### Plot seismic amplitude traces\n",
    "#### Please run the cell below"
   ]
  },
  {
   "cell_type": "code",
   "execution_count": 4,
   "id": "b1254e77-3d71-409e-ac75-43ec601f322e",
   "metadata": {},
   "outputs": [],
   "source": [
    "def plot(seismic_data, direction = None, segy = 'seismic'):\n",
    "\n",
    "    '''\n",
    "    Function to plot seismic amplitude traces\n",
    "    '''\n",
    "\n",
    "    if segy == 'seismic':\n",
    "        color = plt.cm.seismic\n",
    "    elif segy == 'property':\n",
    "        color = plt.cm.jet\n",
    "\n",
    "    # Plot seismic data \n",
    "    if direction == 'inline':\n",
    "        extent = (np.min(xline_number), np.max(xline_number), np.max(twt), np.min(twt))\n",
    "        plt.xlabel(\"Crossline No.\")\n",
    "        plt.ylabel(\"Time (ms)\")\n",
    "        label = 'Interactive In-line Visualization'\n",
    "        \n",
    "    elif direction == 'xline':\n",
    "        extent = (np.min(inline_number), np.max(inline_number), np.max(twt), np.min(twt))\n",
    "        plt.xlabel(\"Inline No.\")\n",
    "        plt.ylabel(\"Time (ms)\")\n",
    "        label = 'Interactive Cross-line Visualization'\n",
    "\n",
    "    elif direction == 'time-slice':\n",
    "        extent = (np.min(inline_number), np.max(inline_number), np.max(xline_number), np.min(xline_number))\n",
    "        plt.xlabel(\"Inline No.\")\n",
    "        plt.ylabel(\"Crossline No.\")\n",
    "        label = 'Interactive Time-Slice Visualization'\n",
    "\n",
    "    elif direction == '2D Line':\n",
    "        extent = (np.min(xline_number), np.max(xline_number), np.max(twt), np.min(twt))\n",
    "        plt.xlabel(\"CDP No.\")\n",
    "        plt.ylabel(\"Time (ms)\")\n",
    "        label = '2D Line Visualization'\n",
    "\n",
    "    # plt.figure(figsize=(10,10))\n",
    "    plt.imshow(seismic_data, interpolation = 'nearest', cmap = color, aspect = 'auto', \n",
    "               vmin = -np.max(seismic_data), vmax = np.max(seismic_data), extent = extent)\n",
    "    plt.title(\"{0} \\n Seismic file name: {1}\".format(label, os.path.splitext(os.path.basename(filepath))[0]))\n",
    "    plt.grid(True)\n",
    "    plt.colorbar()\n",
    "    plt.show()"
   ]
  },
  {
   "cell_type": "markdown",
   "id": "9d138244-cff8-402b-b86b-068e04e0cf8a",
   "metadata": {},
   "source": [
    "#### If segy file is a seismic amplitude data, please run the cell below.\n",
    "#### If segy file is a elastic/reservoir property data, please comment 'seismic_amplitude' and uncomment 'property' then run the cell below."
   ]
  },
  {
   "cell_type": "code",
   "execution_count": 5,
   "id": "4d3c0a46-d596-457c-89ba-e7b5d563c518",
   "metadata": {},
   "outputs": [],
   "source": [
    "sgy_file = 'seismic_amplitude' # default\n",
    "# sgy_file = 'property'\n",
    "\n",
    "if sgy_file == 'seismic_amplitude':\n",
    "    cmp = 'seismic'\n",
    "else:\n",
    "    cmp = 'property'"
   ]
  },
  {
   "cell_type": "markdown",
   "id": "efe7dd6f-3d57-4296-8bca-71fc544df5cd",
   "metadata": {},
   "source": [
    "#### If data_type which was identified earlier is 'Post-stack 2D', please run the cell below to plot your segy file."
   ]
  },
  {
   "cell_type": "code",
   "execution_count": 6,
   "id": "e1ce13e0-d090-4b6a-97e3-10930a9746d2",
   "metadata": {},
   "outputs": [],
   "source": [
    "if data_type == 'Post-stack 2D':\n",
    "    plot(data_display, direction='2D Line', segy = cmp)"
   ]
  },
  {
   "cell_type": "markdown",
   "id": "2624cd18-ed2e-4c44-b485-7c8c5d47c2d6",
   "metadata": {},
   "source": [
    "#### If data_type which was identified earlier is 'Post-stack 3D', please run the cells below to plot your segy file in 3 directions."
   ]
  },
  {
   "cell_type": "markdown",
   "id": "363eeb92-c75a-4123-9cc3-8315c590fca2",
   "metadata": {},
   "source": [
    "### Interactive In-line Visualization\n",
    "#### Please run the cell below"
   ]
  },
  {
   "cell_type": "code",
   "execution_count": 7,
   "id": "8784a2d8-df61-497c-8b8f-b9cd392eb508",
   "metadata": {},
   "outputs": [
    {
     "data": {
      "application/vnd.jupyter.widget-view+json": {
       "model_id": "1e26ba3f68fc4816a8ebf2c75302a6a6",
       "version_major": 2,
       "version_minor": 0
      },
      "text/plain": [
       "interactive(children=(IntSlider(value=425, description='Inline', max=750, min=100), Output()), _dom_classes=('…"
      ]
     },
     "metadata": {},
     "output_type": "display_data"
    }
   ],
   "source": [
    "if data_type == 'Post-stack 3D':\n",
    "\n",
    "    mid = len(inline_number)//2\n",
    "    @interact(Inline=widgets.IntSlider(min=inline_number[0], max=inline_number[-1], step=diff_inline, value=inline_number[mid]))\n",
    "    \n",
    "    def display_seismic_data(Inline):    \n",
    "        Iline = int((Inline - inline_number[0])/diff_inline)\n",
    "        seismic_data = data_display[:,:,Iline]\n",
    "        plot(seismic_data, direction='inline', segy = cmp)\n",
    "        "
   ]
  },
  {
   "cell_type": "markdown",
   "id": "01af0fdc-0f9c-4841-a76e-f35b311d5267",
   "metadata": {},
   "source": [
    "### Interactive Cross-line Visualization\n",
    "#### Please run the cell below"
   ]
  },
  {
   "cell_type": "code",
   "execution_count": 8,
   "id": "01979453-c286-447f-b45e-bdae8a770788",
   "metadata": {},
   "outputs": [
    {
     "data": {
      "application/vnd.jupyter.widget-view+json": {
       "model_id": "2f84a6afbcf54bb092b3f81c6e97b744",
       "version_major": 2,
       "version_minor": 0
      },
      "text/plain": [
       "interactive(children=(IntSlider(value=775, description='Crossline', max=1250, min=300), Output()), _dom_classe…"
      ]
     },
     "metadata": {},
     "output_type": "display_data"
    }
   ],
   "source": [
    "if data_type == 'Post-stack 3D':\n",
    "\n",
    "    mid = len(xline_number)//2\n",
    "    @interact(Crossline=widgets.IntSlider(min=xline_number[0], max=xline_number[-1], step=diff_xline, value=xline_number[mid]))\n",
    "\n",
    "    def display_seismic_data(Crossline):    \n",
    "        Xline = int((Crossline - xline_number[0])/diff_xline)\n",
    "        seismic_data = data_display[:,Xline,:]\n",
    "        plot(seismic_data, direction='xline', segy = cmp)\n",
    " "
   ]
  },
  {
   "cell_type": "markdown",
   "id": "7e111429-1b65-4141-8d38-f37313862d8a",
   "metadata": {},
   "source": [
    "### Interactive Time-Slice Visualization\n",
    "#### Please run the cell below"
   ]
  },
  {
   "cell_type": "code",
   "execution_count": 9,
   "id": "bd173459-8c44-487e-888b-f04c199335c4",
   "metadata": {},
   "outputs": [
    {
     "data": {
      "application/vnd.jupyter.widget-view+json": {
       "model_id": "33eef6ed80a64959b7da06023a7ef27c",
       "version_major": 2,
       "version_minor": 0
      },
      "text/plain": [
       "interactive(children=(IntSlider(value=928, description='TWT', max=1848, min=4, step=4), Output()), _dom_classe…"
      ]
     },
     "metadata": {},
     "output_type": "display_data"
    }
   ],
   "source": [
    "if data_type == 'Post-stack 3D':\n",
    "\n",
    "    mid = len(twt)//2\n",
    "    @interact(TWT=widgets.IntSlider(min=twt[0], max=twt[-1], step=sample_rate, value=twt[mid]))\n",
    "\n",
    "    def display_seismic_data(TWT):    \n",
    "        Time_ms = int((TWT - twt[0])/sample_rate)\n",
    "        seismic_data = data_display[Time_ms,:,:]\n",
    "        plot(seismic_data, direction='time-slice', segy = cmp)\n",
    " "
   ]
  },
  {
   "cell_type": "markdown",
   "id": "2cd086b9-744f-448e-9232-521e46ffaefb",
   "metadata": {},
   "source": [
    "### Thank you for your attention"
   ]
  },
  {
   "cell_type": "markdown",
   "id": "ce91a743-2e66-4965-9d0b-e315440d940d",
   "metadata": {},
   "source": [
    "##### AB"
   ]
  }
 ],
 "metadata": {
  "kernelspec": {
   "display_name": "Python 3 (ipykernel)",
   "language": "python",
   "name": "python3"
  },
  "language_info": {
   "codemirror_mode": {
    "name": "ipython",
    "version": 3
   },
   "file_extension": ".py",
   "mimetype": "text/x-python",
   "name": "python",
   "nbconvert_exporter": "python",
   "pygments_lexer": "ipython3",
   "version": "3.9.1"
  }
 },
 "nbformat": 4,
 "nbformat_minor": 5
}
